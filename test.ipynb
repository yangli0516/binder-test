{
 "cells": [
  {
   "cell_type": "markdown",
   "metadata": {},
   "source": [
    "# Test notebook\n",
    "\n",
    "This is a simple notebook test to calculate GCD (Greatest Common Divisor)."
   ]
  },
  {
   "cell_type": "markdown",
   "metadata": {},
   "source": [
    "First let's define the function to calculate the GCD by using the Euclidean Algorithm:"
   ]
  },
  {
   "cell_type": "code",
   "execution_count": 8,
   "metadata": {},
   "outputs": [],
   "source": [
    "def gcd(a: int, b: int):\n",
    "    \"\"\"Calculate the GCD of two given positive integers.\n",
    "\n",
    "    This function uses the Euclidean algorithm to calculate the GCD.\n",
    "\n",
    "    Parameters\n",
    "    ----------\n",
    "    a : int\n",
    "        The first positive integer.\n",
    "    b : int\n",
    "        The second positive integer.\n",
    "\n",
    "    Returns\n",
    "    -------\n",
    "    int\n",
    "        The GCD of the two numbers.\n",
    "    \n",
    "    \"\"\"\n",
    "\n",
    "    assert a >= 0 and b >= 0\n",
    "\n",
    "    if a == 0:\n",
    "        return b;\n",
    "    if b == 0:\n",
    "        return a;\n",
    "    if a == b:\n",
    "        return a;\n",
    "    elif a > b:\n",
    "        return gcd(b, a % b)\n",
    "    elif a < b:\n",
    "        return gcd(a, b % a)"
   ]
  },
  {
   "cell_type": "markdown",
   "metadata": {},
   "source": [
    "Now a few test cases:"
   ]
  },
  {
   "cell_type": "code",
   "execution_count": 9,
   "metadata": {},
   "outputs": [
    {
     "name": "stdout",
     "output_type": "stream",
     "text": [
      "2\n",
      "1\n",
      "128\n",
      "5\n"
     ]
    }
   ],
   "source": [
    "print(gcd(10, 4))\n",
    "print(gcd(5, 3))\n",
    "print(gcd(1024, 128))\n",
    "# Test on large numbers\n",
    "print(gcd(1121321565, 3283240))"
   ]
  }
 ],
 "metadata": {
  "kernelspec": {
   "display_name": "Python 3",
   "language": "python",
   "name": "python3"
  },
  "language_info": {
   "codemirror_mode": {
    "name": "ipython",
    "version": 3
   },
   "file_extension": ".py",
   "mimetype": "text/x-python",
   "name": "python",
   "nbconvert_exporter": "python",
   "pygments_lexer": "ipython3",
   "version": "3.11.3"
  },
  "orig_nbformat": 4
 },
 "nbformat": 4,
 "nbformat_minor": 2
}
